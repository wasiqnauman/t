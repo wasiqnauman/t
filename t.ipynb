{
 "cells": [
  {
   "cell_type": "markdown",
   "id": "e668ce01",
   "metadata": {},
   "source": [
    "## Import the required libraries"
   ]
  },
  {
   "cell_type": "code",
   "execution_count": 96,
   "id": "b954e25c",
   "metadata": {},
   "outputs": [],
   "source": [
    "from selenium import webdriver\n",
    "from selenium.webdriver.support.ui import WebDriverWait\n",
    "from selenium.webdriver.common.by import By\n",
    "from selenium.webdriver.support import expected_conditions as EC\n",
    "from selenium.webdriver.chrome.options import Options as ChromeOptions\n",
    "from selenium.webdriver.common.action_chains import ActionChains\n",
    "from selenium.webdriver.common.keys import Keys\n",
    "from webdriver_manager.chrome import ChromeDriverManager\n",
    "from collections import defaultdict\n",
    "import xlrd\n",
    "import time\n",
    "import pandas as pd\n",
    "import numpy as np\n",
    "import os\n"
   ]
  },
  {
   "cell_type": "code",
   "execution_count": 97,
   "id": "45122fee",
   "metadata": {},
   "outputs": [],
   "source": [
    "path = \"./chromedriver\"\n",
    "chrome_options = ChromeOptions()\n",
    "chrome_options.add_extension('ublock.crx')\n",
    "url = 'https://web.whatsapp.com/'"
   ]
  },
  {
   "cell_type": "markdown",
   "id": "2e1eafb7",
   "metadata": {},
   "source": [
    "## Prepare the datasets of contacts"
   ]
  },
  {
   "cell_type": "code",
   "execution_count": 98,
   "id": "d1c107f6",
   "metadata": {},
   "outputs": [],
   "source": [
    "df = pd.read_excel('t.xlsx', index_col=None, header=None)\n",
    "contactList = df[0].values.tolist()"
   ]
  },
  {
   "cell_type": "code",
   "execution_count": 99,
   "id": "7f51dfe8",
   "metadata": {},
   "outputs": [
    {
     "name": "stdout",
     "output_type": "stream",
     "text": [
      "[923337825651, 9203221868851, 923328929641, 923003571118, 923235822728]\n"
     ]
    }
   ],
   "source": [
    "print(contactList[:5])"
   ]
  },
  {
   "cell_type": "markdown",
   "id": "617154a0",
   "metadata": {},
   "source": [
    "## Select message to send"
   ]
  },
  {
   "cell_type": "code",
   "execution_count": 100,
   "id": "0c97f3f9",
   "metadata": {},
   "outputs": [],
   "source": [
    "message = \"*BME Panorama - Bahria Enclave Islamabad*\""
   ]
  },
  {
   "cell_type": "code",
   "execution_count": 102,
   "id": "31ac8ddd",
   "metadata": {},
   "outputs": [
    {
     "name": "stderr",
     "output_type": "stream",
     "text": [
      "/var/folders/2c/7pd4zggx4z12hfcd8581lqj40000gn/T/ipykernel_13854/812871813.py:1: DeprecationWarning: executable_path has been deprecated, please pass in a Service object\n",
      "  driver = webdriver.Chrome(ChromeDriverManager().install())\n"
     ]
    },
    {
     "name": "stdout",
     "output_type": "stream",
     "text": [
      "923337825651 is valid.\n",
      "9203221868851 is valid.\n",
      "923328929641 is valid.\n",
      "923003571118 is valid.\n",
      "923235822728 is valid.\n"
     ]
    }
   ],
   "source": [
    "driver = webdriver.Chrome(ChromeDriverManager().install())\n",
    "driver.maximize_window()\n",
    "\n",
    "for num in contactList[:5]:\n",
    "    url = f\"https://web.whatsapp.com/send?phone={num}\"\n",
    "    driver.get(url)\n",
    "    \n",
    "    time.sleep(3)             # give enough time for everything to load\n",
    "    \n",
    "    numValid = True           # Flag to see if the number invalid popup appears\n",
    "    act = ActionChains(driver)# set action chains for key inputs\n",
    "    \n",
    "    # check if number invalid popup appears\n",
    "    try:\n",
    "        btn = WebDriverWait(driver, 20).until(EC.element_to_be_clickable((By.XPATH,\"/html/body/div[1]/div/span[2]/div/span/div/div/div/div/div/div[2]/div/div\" )))\n",
    "    except:                   # if the popup isnt found, exception thrown\n",
    "        numValid = True       # means the number is valid\n",
    "        print(f\"{num} is valid.\")\n",
    "    else:                     # if no exception thrown, means number invalid popup appears\n",
    "        btn.click()           # click on the popup so that it goes away\n",
    "        numValid = False      # mark number as invalid\n",
    "        print(f\"{num} is invalid.\")\n",
    "        \n",
    "    # if the number is valid then proceed to send the text\n",
    "    if numValid:\n",
    "        tbox = WebDriverWait(driver, 20).until(EC.presence_of_element_located((By.XPATH, \"/html/body/div[1]/div/div/div[4]/div/footer/div[1]/div/span[2]/div/div[2]/div[1]/div/div[1]\"))).send_keys(\"Build a steady cashflow with safe investments. 100% complete and CDA approved project in Bahria Enclave Islamabad. Already rented shops\")\n",
    "        act.key_down(Keys.COMMAND).send_keys(\"v\").key_up(Keys.COMMAND).perform()\n",
    "        time.sleep(3)\n",
    "        act.send_keys(Keys.ENTER).perform()\n",
    "        time.sleep(5)\n",
    "        \n",
    "    # open new tab\n",
    "    act.key_down(Keys.COMMAND).send_keys(\"t\").key_up(Keys.COMMAND).perform()\n"
   ]
  },
  {
   "cell_type": "code",
   "execution_count": null,
   "id": "df852d1e",
   "metadata": {},
   "outputs": [],
   "source": []
  }
 ],
 "metadata": {
  "kernelspec": {
   "display_name": "Python 3 (ipykernel)",
   "language": "python",
   "name": "python3"
  },
  "language_info": {
   "codemirror_mode": {
    "name": "ipython",
    "version": 3
   },
   "file_extension": ".py",
   "mimetype": "text/x-python",
   "name": "python",
   "nbconvert_exporter": "python",
   "pygments_lexer": "ipython3",
   "version": "3.9.5"
  }
 },
 "nbformat": 4,
 "nbformat_minor": 5
}
